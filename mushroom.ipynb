{
 "cells": [
  {
   "cell_type": "code",
   "execution_count": null,
   "id": "initial_id",
   "metadata": {
    "collapsed": true
   },
   "outputs": [],
   "source": [
    "from sklearn.model_selection import train_test_split\n",
    "import numpy as np\n",
    "from DecisionTree import DecisionTree\n",
    "import pandas as pd\n",
    "import time\n",
    "start_time = time.time()\n",
    "\n",
    "game_data = pd.read_csv('mushroom_cleaned.csv')\n",
    "inputs = game_data[['cap-diameter','cap-shape','gill-attachment','gill-color','stem-height','stem-width','stem-color','season']]\n",
    "target = game_data[['class']]\n",
    "\n",
    "X_train, X_test, y_train, y_test = train_test_split(\n",
    "    inputs, target, test_size=0.2, random_state=1234\n",
    ")"
   ]
  },
  {
   "cell_type": "code",
   "execution_count": null,
   "outputs": [],
   "source": [
    "min_samples_split=2\n",
    "max_depth=4"
   ],
   "metadata": {
    "collapsed": false
   },
   "id": "9b089463e25ea42"
  },
  {
   "cell_type": "code",
   "execution_count": null,
   "outputs": [],
   "source": [
    "n_features = X_train.shape[1]\n",
    "self.root = self._grow_tree(X, y)"
   ],
   "metadata": {
    "collapsed": false
   },
   "id": "2b44906914c20842"
  }
 ],
 "metadata": {
  "kernelspec": {
   "display_name": "Python 3",
   "language": "python",
   "name": "python3"
  },
  "language_info": {
   "codemirror_mode": {
    "name": "ipython",
    "version": 2
   },
   "file_extension": ".py",
   "mimetype": "text/x-python",
   "name": "python",
   "nbconvert_exporter": "python",
   "pygments_lexer": "ipython2",
   "version": "2.7.6"
  }
 },
 "nbformat": 4,
 "nbformat_minor": 5
}
